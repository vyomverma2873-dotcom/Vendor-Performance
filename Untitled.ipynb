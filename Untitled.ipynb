{
 "cells": [
  {
   "cell_type": "code",
   "id": "3d7754a4-7d5d-4ed7-a7a6-996ce3c18b13",
   "metadata": {
    "ExecuteTime": {
     "end_time": "2025-09-05T07:47:54.328547Z",
     "start_time": "2025-09-05T07:47:54.042036Z"
    }
   },
   "source": [
    "# ==============================\n",
    "# 1️⃣ Install missing packages\n",
    "# ==============================\n",
    "# Run these only if the libraries are not installed\n",
    "!pip install pandas sqlalchemy openpyxl matplotlib seaborn numpy\n",
    "\n",
    "# ==============================\n",
    "# 2️⃣ Import standard libraries\n",
    "# ==============================\n",
    "import os          # For file and folder operations\n",
    "import pandas as pd  # DataFrames and CSV/Excel handling\n",
    "import numpy as np   # Numerical computations\n",
    "import matplotlib.pyplot as plt  # Plotting\n",
    "import seaborn as sns            # Advanced plotting\n",
    "from sqlalchemy import create_engine  # Database connection\n",
    "\n",
    "# ==============================\n",
    "# 3️⃣ Optional: Settings for nicer plots\n",
    "# ==============================\n",
    "%matplotlib inline\n",
    "sns.set(style='whitegrid')\n"
   ],
   "outputs": [
    {
     "name": "stdout",
     "output_type": "stream",
     "text": [
      "zsh:1: command not found: pip\r\n"
     ]
    }
   ],
   "execution_count": 2
  },
  {
   "cell_type": "code",
   "id": "10c3f417-151b-452d-ae25-f0802b2c410e",
   "metadata": {
    "ExecuteTime": {
     "end_time": "2025-09-05T07:47:54.469617Z",
     "start_time": "2025-09-05T07:47:54.341036Z"
    }
   },
   "source": [
    "# 1️⃣ Install SQLAlchemy if not installed\n",
    "!pip install SQLAlchemy\n",
    "\n",
    "# 2️⃣ Import the function\n",
    "from sqlalchemy import create_engine\n",
    "\n",
    "# 3️⃣ Create the engine\n",
    "engine = create_engine('sqlite:///inventory.db')\n",
    "\n",
    "# 4️⃣ Test by checking tables in the database\n",
    "import pandas as pd\n",
    "\n",
    "with engine.connect() as conn:\n",
    "    tables = pd.read_sql_query(\n",
    "        \"SELECT name FROM sqlite_master WHERE type='table';\", conn\n",
    "    )\n",
    "    print(tables)\n"
   ],
   "outputs": [
    {
     "name": "stdout",
     "output_type": "stream",
     "text": [
      "zsh:1: command not found: pip\r\n",
      "                   name\n",
      "0             purchases\n",
      "1       purchase_prices\n",
      "2        vendor_invoice\n",
      "3       begin_inventory\n",
      "4         end_inventory\n",
      "5                 sales\n",
      "6  vendor_sales_summary\n"
     ]
    }
   ],
   "execution_count": 3
  },
  {
   "cell_type": "code",
   "id": "8e887eba-173b-4c79-85a3-9fde77d7062f",
   "metadata": {
    "ExecuteTime": {
     "end_time": "2025-09-05T07:47:54.596749Z",
     "start_time": "2025-09-05T07:47:54.475460Z"
    }
   },
   "source": [
    "# Install SQLAlchemy if not already installed\n",
    "!pip install SQLAlchemy\n",
    "\n",
    "# Import the function\n",
    "from sqlalchemy import create_engine\n",
    "\n",
    "# Now you can create your engine\n",
    "engine = create_engine('sqlite:///inventory.db')\n"
   ],
   "outputs": [
    {
     "name": "stdout",
     "output_type": "stream",
     "text": [
      "zsh:1: command not found: pip\r\n"
     ]
    }
   ],
   "execution_count": 4
  },
  {
   "cell_type": "code",
   "id": "963266ee-7075-4f2a-8dff-93d966216cba",
   "metadata": {
    "ExecuteTime": {
     "end_time": "2025-09-05T07:47:54.604281Z",
     "start_time": "2025-09-05T07:47:54.602149Z"
    }
   },
   "source": [
    "import os\n"
   ],
   "outputs": [],
   "execution_count": 5
  },
  {
   "cell_type": "code",
   "id": "fd2787ec-f9aa-4d43-adc6-a6b9008974fe",
   "metadata": {
    "ExecuteTime": {
     "end_time": "2025-09-05T07:50:27.589507Z",
     "start_time": "2025-09-05T07:47:54.607782Z"
    }
   },
   "source": [
    "import pandas as pd\n",
    "import os\n",
    "from sqlalchemy import create_engine\n",
    "import logging\n",
    "import time\n",
    "\n",
    "logging.basicConfig(\n",
    "    filename=\"logs/ingestion_db.log\",\n",
    "    level=logging.DEBUG,\n",
    "    format=\"%(asctime)s - %(levelname)s - %(message)s\",\n",
    "    filemode=\"a\"\n",
    ")\n",
    "\n",
    "engine= create_engine('sqlite:///inventory.db')\n",
    "\n",
    "def ingest_db(df, table_name, engine):\n",
    "    '''this function will ingest the dataframe into database table'''\n",
    "    df.to_sql(table_name, con=engine, if_exists='replace', index=False) \n",
    "\n",
    "\n",
    "\n",
    "def load_raw_data():\n",
    "    '''this function will load the CSVs as dataframe and ingest into db'''\n",
    "    start = time.time()\n",
    "    for file in os.listdir('data'):\n",
    "        if '.csv' in file:\n",
    "            df = pd.read_csv('data/' + file)\n",
    "            logging.info(f'Ingesting {file} in db')\n",
    "            ingest_db(df, file[:-4], engine)\n",
    "\n",
    "    end = time.time()\n",
    "    total_time = (end - start) / 60\n",
    "    logging.info('___________Ingestion Complete___________')\n",
    "    logging.info(f'\\nTotal Time Taken: {total_time} minutes')\n",
    "    \n",
    "if __name__ == '__main__':\n",
    "    load_raw_data()\n",
    "\n",
    "    "
   ],
   "outputs": [],
   "execution_count": 6
  }
 ],
 "metadata": {
  "kernelspec": {
   "display_name": "Python 3 (ipykernel)",
   "language": "python",
   "name": "python3"
  },
  "language_info": {
   "codemirror_mode": {
    "name": "ipython",
    "version": 3
   },
   "file_extension": ".py",
   "mimetype": "text/x-python",
   "name": "python",
   "nbconvert_exporter": "python",
   "pygments_lexer": "ipython3",
   "version": "3.9.6"
  }
 },
 "nbformat": 4,
 "nbformat_minor": 5
}
